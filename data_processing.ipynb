{
 "cells": [
  {
   "cell_type": "markdown",
   "id": "ce3d2d08",
   "metadata": {},
   "source": [
    "\n",
    "Some notes:\n",
    "- Data from extraction comes as JSON/Dictionary-like data\n",
    "- Some data for specific days, I think, like, Sunday were not processed sucessfully by the extraction code. Probably because the BANDEJAO website for the menu doesn't actually update on Sundays, not sure\n",
    "- If run `ls -l ./data/S1-2025/raw | egrep -c \"-\"`, it seems we have 73 data points it seems, since April 15th\n",
    "- So basically 2.5 months worth of menu data\n",
    "\n",
    "Goals:\n",
    "- Process data, deal with missing values, etc.\n",
    "- Add some nice new columns\n",
    "- Maybe join with external data (weather? idk)\n",
    "\n"
   ]
  },
  {
   "cell_type": "markdown",
   "id": "0529d513",
   "metadata": {},
   "source": []
  }
 ],
 "metadata": {
  "language_info": {
   "name": "python"
  }
 },
 "nbformat": 4,
 "nbformat_minor": 5
}
